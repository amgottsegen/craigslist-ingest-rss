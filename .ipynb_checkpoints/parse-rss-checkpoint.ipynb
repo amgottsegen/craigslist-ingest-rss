{
 "cells": [
  {
   "cell_type": "code",
   "execution_count": null,
   "metadata": {
    "collapsed": true
   },
   "outputs": [],
   "source": [
    "#runs daily at 1AM. appends all XML files together, and then uses BeautifulSoup to parse? creates:\n",
    "# parsed/\n",
    "#    apa/\n",
    "#        2017-10-19.csv\n",
    "#        ...\n",
    "#    cla/\n",
    "#    ..."
   ]
  },
  {
   "cell_type": "code",
   "execution_count": 2,
   "metadata": {
    "collapsed": true
   },
   "outputs": [],
   "source": [
    "from bs4 import BeautifulSoup\n",
    "import pandas as pd\n",
    "import re"
   ]
  },
  {
   "cell_type": "code",
   "execution_count": 3,
   "metadata": {
    "collapsed": true
   },
   "outputs": [],
   "source": [
    "def read_search_results(filename):\n",
    "    data = open(filename,'r')\n",
    "    return data.read()"
   ]
  },
  {
   "cell_type": "code",
   "execution_count": 4,
   "metadata": {
    "collapsed": true
   },
   "outputs": [],
   "source": [
    "def parse_source(xml):\n",
    "    parsed = BeautifulSoup(xml, \"xml\", from_encoding='utf-8')\n",
    "    return parsed"
   ]
  },
  {
   "cell_type": "code",
   "execution_count": null,
   "metadata": {
    "collapsed": true
   },
   "outputs": [],
   "source": [
    "def create_df(parsed):\n",
    "    pd\n",
    "    listings = parsed.findAll(\"title\")\n",
    "    for listing in listings:\n",
    "        re.search('\\([^(]+\\) &',s).group(0).lstrip('(').rstrip(') &')"
   ]
  },
  {
   "cell_type": "code",
   "execution_count": null,
   "metadata": {
    "collapsed": true
   },
   "outputs": [],
   "source": [
    "file_path = 'raw/apa/2017-10-19/11_15.xml'\n",
    "create_df(parse_source(read_search_results(file_path)))"
   ]
  }
 ],
 "metadata": {
  "kernelspec": {
   "display_name": "Python [default]",
   "language": "python",
   "name": "python2"
  },
  "language_info": {
   "codemirror_mode": {
    "name": "ipython",
    "version": 2
   },
   "file_extension": ".py",
   "mimetype": "text/x-python",
   "name": "python",
   "nbconvert_exporter": "python",
   "pygments_lexer": "ipython2",
   "version": "2.7.12"
  }
 },
 "nbformat": 4,
 "nbformat_minor": 1
}
