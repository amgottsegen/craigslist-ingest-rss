{
 "cells": [
  {
   "cell_type": "code",
   "execution_count": 9,
   "metadata": {
    "collapsed": true
   },
   "outputs": [],
   "source": [
    "import requests, codecs, os, datetime, json"
   ]
  },
  {
   "cell_type": "code",
   "execution_count": 22,
   "metadata": {
    "collapsed": true
   },
   "outputs": [],
   "source": [
    "def fetch_search_results(section):\n",
    "    base = 'https://philadelphia.craigslist.org/search/' + section + '?format=rss'\n",
    "    resp = requests.get(base, timeout=3)\n",
    "    resp.raise_for_status()  # <- no-op if status==200\n",
    "    return resp.content"
   ]
  },
  {
   "cell_type": "code",
   "execution_count": 24,
   "metadata": {
    "collapsed": true
   },
   "outputs": [],
   "source": [
    "def write_results(result, section):\n",
    "    now = datetime.datetime.now()\n",
    "    dest = \"raw/\" + section + now.strftime('/%Y-%m-%d/%H_%M.xml')\n",
    "    try:\n",
    "        os.makedirs(os.path.dirname(dest))\n",
    "    except:\n",
    "        pass\n",
    "\n",
    "    f = codecs.open(dest,'w')\n",
    "    f.write(result)"
   ]
  },
  {
   "cell_type": "code",
   "execution_count": 17,
   "metadata": {
    "collapsed": false
   },
   "outputs": [],
   "source": [
    "data = open('sections.json').read()\n",
    "sections = json.loads(data)"
   ]
  },
  {
   "cell_type": "code",
   "execution_count": null,
   "metadata": {
    "collapsed": false
   },
   "outputs": [],
   "source": [
    "for section in sections.values():\n",
    "    result = fetch_search_results(section)\n",
    "    write_results(result, section)"
   ]
  },
  {
   "cell_type": "code",
   "execution_count": 8,
   "metadata": {
    "collapsed": false
   },
   "outputs": [
    {
     "data": {
      "text/plain": [
       "[u'roo',\n",
       " u'cta',\n",
       " u'bfa',\n",
       " u'zip',\n",
       " u'apa',\n",
       " u'bia',\n",
       " u'baa',\n",
       " u'bip',\n",
       " u'sub',\n",
       " u'pta',\n",
       " u'ata',\n",
       " u'moa',\n",
       " u'reb',\n",
       " u'reb',\n",
       " u'ppa',\n",
       " u'wta',\n",
       " u'off',\n",
       " u'haa',\n",
       " u'bka']"
      ]
     },
     "execution_count": 8,
     "metadata": {},
     "output_type": "execute_result"
    }
   ],
   "source": []
  },
  {
   "cell_type": "code",
   "execution_count": null,
   "metadata": {
    "collapsed": true
   },
   "outputs": [],
   "source": []
  }
 ],
 "metadata": {
  "anaconda-cloud": {},
  "kernelspec": {
   "display_name": "Python [default]",
   "language": "python",
   "name": "python2"
  },
  "language_info": {
   "codemirror_mode": {
    "name": "ipython",
    "version": 2
   },
   "file_extension": ".py",
   "mimetype": "text/x-python",
   "name": "python",
   "nbconvert_exporter": "python",
   "pygments_lexer": "ipython2",
   "version": "2.7.12"
  }
 },
 "nbformat": 4,
 "nbformat_minor": 1
}
