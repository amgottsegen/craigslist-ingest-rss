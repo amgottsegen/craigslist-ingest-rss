{
 "cells": [
  {
   "cell_type": "code",
   "execution_count": 1,
   "metadata": {
    "collapsed": true
   },
   "outputs": [],
   "source": [
    "import requests, codecs, os, datetime, json, sys"
   ]
  },
  {
   "cell_type": "code",
   "execution_count": 14,
   "metadata": {
    "collapsed": true
   },
   "outputs": [],
   "source": [
    "def fetch_search_results(section,zipcode):\n",
    "    base = 'https://philadelphia.craigslist.org/search/{0}?search_distance=0&postal={1}&format=rss'.format(section,zipcode)\n",
    "    try:\n",
    "        resp = requests.get(base, timeout=5,headers={'User-Agent': 'Mozilla/5.0'})\n",
    "        resp.raise_for_status()\n",
    "        return resp.content\n",
    "    except:\n",
    "        print (\"Error fetching RSS for section {0} and zipcode {1}: {2} Continuing...\").format(section, zipcode, sys.exc_info())\n",
    "        pass"
   ]
  },
  {
   "cell_type": "code",
   "execution_count": 19,
   "metadata": {
    "collapsed": false
   },
   "outputs": [],
   "source": [
    "def write_results(result, section, subsection, zipcode):\n",
    "    now = datetime.datetime.now()\n",
    "    dest = \"raw/{0}/{1}/{2}\".format(section, subsection, zipcode) + now.strftime('/%Y-%m-%d/%H_%M.xml') \n",
    "    try:\n",
    "        os.makedirs(os.path.dirname(dest))\n",
    "    except:\n",
    "        pass\n",
    "    \n",
    "    try:\n",
    "        f = codecs.open(dest,'w')\n",
    "        f.write(result)\n",
    "    except:\n",
    "        print (\"Error saving XML for section {0}: {1}. Continuing...\").format(section, sys.exc_info()[0])\n",
    "        pass"
   ]
  },
  {
   "cell_type": "code",
   "execution_count": 20,
   "metadata": {
    "collapsed": false
   },
   "outputs": [],
   "source": [
    "def open_json(filename):\n",
    "    try:\n",
    "        data = open(filename).read()\n",
    "        return json.loads(data)\n",
    "    except:\n",
    "        raise Exception(\"Error reading craigslist sections JSON: {0}\".format(sys.exc_info()))"
   ]
  },
  {
   "cell_type": "code",
   "execution_count": 21,
   "metadata": {
    "collapsed": false
   },
   "outputs": [],
   "source": [
    "sections = open_json('sections.json')\n",
    "zipcodes = open_json('zips.json')['zipcodes']\n",
    "for section in sections:\n",
    "    for subsection in sections[section].values():\n",
    "        for zipcode in zipcodes:\n",
    "            result = fetch_search_results(subsection, zipcode)\n",
    "            write_results(result, section, subsection, zipcode)"
   ]
  },
  {
   "cell_type": "code",
   "execution_count": null,
   "metadata": {
    "collapsed": true
   },
   "outputs": [],
   "source": []
  }
 ],
 "metadata": {
  "anaconda-cloud": {},
  "kernelspec": {
   "display_name": "Python [default]",
   "language": "python",
   "name": "python2"
  },
  "language_info": {
   "codemirror_mode": {
    "name": "ipython",
    "version": 2
   },
   "file_extension": ".py",
   "mimetype": "text/x-python",
   "name": "python",
   "nbconvert_exporter": "python",
   "pygments_lexer": "ipython2",
   "version": "2.7.12"
  }
 },
 "nbformat": 4,
 "nbformat_minor": 1
}
